{
 "cells": [
  {
   "cell_type": "code",
   "execution_count": 22,
   "id": "5ad77114",
   "metadata": {},
   "outputs": [],
   "source": [
    "import os\n",
    "from glob import glob\n",
    "import numpy as np\n",
    "import pandas as pd\n",
    "import tqdm\n",
    "import json\n",
    "import matplotlib.pyplot as plt\n",
    "\n",
    "train_path_arr = './label/train/arrhythmia/'\n",
    "train_path_nor = './label/train/normal/'\n",
    "val_path_arr = './label/validation/arrhythmia/'\n",
    "val_path_nor = './label/validation/normal/'\n",
    "\n",
    "train_arr_list = os.listdir(train_path_arr)\n",
    "train_nor_list = os.listdir(train_path_nor)\n",
    "val_arr_list = os.listdir(val_path_arr)\n",
    "val_nor_list = os.listdir(val_path_nor)\n",
    "\n",
    "train_arr_list.sort()\n",
    "train_nor_list.sort()\n",
    "val_arr_list.sort()\n",
    "val_nor_list.sort()\n"
   ]
  },
  {
   "cell_type": "markdown",
   "id": "0c4bf268",
   "metadata": {},
   "source": [
    "다 부질없는 과정이엇어...아까워서 안지운다"
   ]
  },
  {
   "cell_type": "code",
   "execution_count": 24,
   "id": "1cbc37bc",
   "metadata": {},
   "outputs": [],
   "source": [
    "# def extract_label(path, filelist):\n",
    "#     label_list = []\n",
    "#     for name in filelist:\n",
    "#         with open(path + name) as jsonFile:\n",
    "#             jsonObject = json.load(jsonFile)\n",
    "#             jsonFile.close()\n",
    "#         labels = jsonObject['labels']\n",
    "#         label_list.append(labels[0]['label_id'])\n",
    "#     return label_list\n",
    "# train_arr_label = extract_label(train_path_arr, train_arr_list)# 1-15\n",
    "# train_nor_label = extract_label(train_path_nor, train_nor_list)# 이미 0\n",
    "# val_arr_label = extract_label(val_path_arr, val_arr_list)#1-15\n",
    "# val_nor_label = extract_label(val_path_nor, val_nor_list)#이미 0"
   ]
  },
  {
   "cell_type": "code",
   "execution_count": 38,
   "id": "19f5690a",
   "metadata": {},
   "outputs": [
    {
     "data": {
      "text/plain": [
       "(17836, 21037, 2229, 2630)"
      ]
     },
     "execution_count": 38,
     "metadata": {},
     "output_type": "execute_result"
    }
   ],
   "source": [
    "len(train_arr_list), len(train_nor_list), len(val_arr_list), len(val_nor_list)#딱맞고~"
   ]
  },
  {
   "cell_type": "code",
   "execution_count": null,
   "id": "c276e894",
   "metadata": {},
   "outputs": [],
   "source": [
    "# 아니 json file이 굳이 필요하긴 한건가??어차피 0이랑 1로 분류할건데...?????????????헐랭 다황스럽네"
   ]
  },
  {
   "cell_type": "code",
   "execution_count": 39,
   "id": "eeb26a89",
   "metadata": {},
   "outputs": [],
   "source": [
    "train_arr_label = [1]*17836\n",
    "train_nor_label = [0]*21037\n",
    "val_arr_label = [1] * 2229\n",
    "val_nor_label = [0] * 2630\n",
    "train_label = train_arr_label + train_nor_label\n",
    "val_label = val_arr_label + val_nor_label"
   ]
  },
  {
   "cell_type": "code",
   "execution_count": 40,
   "id": "9dd406a4",
   "metadata": {},
   "outputs": [
    {
     "ename": "AttributeError",
     "evalue": "'list' object has no attribute 'to_numpy'",
     "output_type": "error",
     "traceback": [
      "\u001b[0;31m---------------------------------------------------------------------------\u001b[0m",
      "\u001b[0;31mAttributeError\u001b[0m                            Traceback (most recent call last)",
      "\u001b[0;32m<ipython-input-40-c03e5e520716>\u001b[0m in \u001b[0;36m<module>\u001b[0;34m\u001b[0m\n\u001b[0;32m----> 1\u001b[0;31m \u001b[0mtrain_label\u001b[0m\u001b[0;34m.\u001b[0m\u001b[0mto_numpy\u001b[0m\u001b[0;34m(\u001b[0m\u001b[0;34m)\u001b[0m\u001b[0;34m\u001b[0m\u001b[0;34m\u001b[0m\u001b[0m\n\u001b[0m",
      "\u001b[0;31mAttributeError\u001b[0m: 'list' object has no attribute 'to_numpy'"
     ]
    }
   ],
   "source": [
    "train_label"
   ]
  },
  {
   "cell_type": "code",
   "execution_count": 33,
   "id": "931ebeed",
   "metadata": {},
   "outputs": [
    {
     "data": {
      "image/png": "[encoded data removed]",
      "text/plain": [
       "<Figure size 640x480 with 1 Axes>"
      ]
     },
     "metadata": {},
     "output_type": "display_data"
    }
   ],
   "source": [
    "plt.hist(train_nor_label, bins = 200)\n",
    "plt.show()"
   ]
  }
 ],
 "metadata": {
  "kernelspec": {
   "display_name": "Python 3.7.11 64-bit ('sce': conda)",
   "language": "python",
   "name": "python3711jvsc74a57bd09bb3e46167f5c400af3e59bea929666d662dd7e99f9046bb04b64be6ff24130e"
  },
  "language_info": {
   "codemirror_mode": {
    "name": "ipython",
    "version": 3
   },
   "file_extension": ".py",
   "mimetype": "text/x-python",
   "name": "python",
   "nbconvert_exporter": "python",
   "pygments_lexer": "ipython3",
   "version": "3.7.11"
  }
 },
 "nbformat": 4,
 "nbformat_minor": 5
}
