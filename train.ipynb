{
 "cells": [
  {
   "cell_type": "code",
   "execution_count": 1,
   "id": "d16bfe37",
   "metadata": {},
   "outputs": [],
   "source": [
    "import os\n",
    "import numpy as np\n",
    "import torch\n",
    "import pandas as pd\n",
    "from torch import nn\n",
    "from torch import optim\n",
    "from torch.utils.data import TensorDataset, DataLoader, Dataset\n",
    "from torch.autograd import Variable\n",
    "import torch.nn as nn\n",
    "from sklearn.metrics import roc_auc_score, average_precision_score, accuracy_score, recall_score, precision_score, f1_score\n",
    "import tqdm\n",
    "from operator import add\n",
    "import matplotlib.pyplot as plt\n",
    "import easydict\n",
    "import wandb\n",
    "import sklearn.metrics as metrics"
   ]
  },
  {
   "cell_type": "code",
   "execution_count": 2,
   "id": "85c2b0b0",
   "metadata": {},
   "outputs": [
    {
     "name": "stdout",
     "output_type": "stream",
     "text": [
      "\u001b[34m\u001b[1mwandb\u001b[0m: Currently logged in as: \u001b[33mtonge\u001b[0m (use `wandb login --relogin` to force relogin)\r\n"
     ]
    }
   ],
   "source": [
    "!wandb login"
   ]
  },
  {
   "cell_type": "code",
   "execution_count": 2,
   "id": "6abdc50a",
   "metadata": {},
   "outputs": [],
   "source": [
    "device = torch.device('cuda:0' if torch.cuda.is_available() else 'cpu')"
   ]
  },
  {
   "cell_type": "code",
   "execution_count": 3,
   "id": "56f45268",
   "metadata": {},
   "outputs": [],
   "source": [
    "class ECGdataset(Dataset):\n",
    "    def __init__(self, data_type):\n",
    "        if data_type == 'train':\n",
    "            self.X = np.load('./data_np/train.npy')\n",
    "            self.y = np.load('./label_np/train.npy')\n",
    "            \n",
    "        elif data_type == 'val':\n",
    "            self.X = np.load('./data_np/validation.npy')\n",
    "            self.y = np.load('./label_np/validation.npy')\n",
    "            \n",
    "        assert len(self.X) == len(self.y), \"length should be same between input and label\"\n",
    "        \n",
    "        self.X = torch.FloatTensor(self.X)#cpu tensor\n",
    "        self.y = torch.FloatTensor(self.y)#cpu tensor\n",
    "    \n",
    "    def __len__(self):\n",
    "        return len(self.y)\n",
    "    \n",
    "    def __getitem__(self, index):\n",
    "        X = self.X[index]\n",
    "        y = self.y[index]\n",
    "        return {\n",
    "            'X': X,\n",
    "            'y_target': y\n",
    "        }"
   ]
  },
  {
   "cell_type": "markdown",
   "id": "3adb525b",
   "metadata": {},
   "source": [
    "### 아래에서 예측된 결과들을 0.5 기준으로 thresholding해서 0, 1로 뱉는 함수, one-hot encoding도 포함."
   ]
  },
  {
   "cell_type": "code",
   "execution_count": 4,
   "id": "443e2fb0",
   "metadata": {},
   "outputs": [],
   "source": [
    "def threshold(y_pred_list):\n",
    "    one_hot_list = []\n",
    "    thresholded_list = []\n",
    "    for x in y_pred_list:\n",
    "        if x >= 0.5:# class 1\n",
    "            one_hot_list.append([0, 1])\n",
    "            thresholded_list.append(1)\n",
    "        else:\n",
    "            one_hot_list.append([1, 0])\n",
    "            thresholded_list.append(0)\n",
    "    return thresholded_list#np.asarray(one_hot_list), "
   ]
  },
  {
   "cell_type": "code",
   "execution_count": 6,
   "id": "750a8c1e",
   "metadata": {
    "scrolled": true
   },
   "outputs": [
    {
     "name": "stderr",
     "output_type": "stream",
     "text": [
      "Failed to detect the name of this notebook, you can set it manually with the WANDB_NOTEBOOK_NAME environment variable to enable code saving.\n",
      "\u001b[34m\u001b[1mwandb\u001b[0m: Currently logged in as: \u001b[33mtonge\u001b[0m (use `wandb login --relogin` to force relogin)\n",
      "\u001b[34m\u001b[1mwandb\u001b[0m: wandb version 0.12.7 is available!  To upgrade, please run:\n",
      "\u001b[34m\u001b[1mwandb\u001b[0m:  $ pip install wandb --upgrade\n"
     ]
    },
    {
     "data": {
      "text/html": [
       "\n",
       "                Tracking run with wandb version 0.12.1<br/>\n",
       "                Syncing run <strong style=\"color:#cdcd00\">peachy-tree-31</strong> to <a href=\"https://wandb.ai\" target=\"_blank\">Weights & Biases</a> <a href=\"https://docs.wandb.com/integrations/jupyter.html\" target=\"_blank\">(Documentation)</a>.<br/>\n",
       "                Project page: <a href=\"https://wandb.ai/hdai_sjmaster/HDAI\" target=\"_blank\">https://wandb.ai/hdai_sjmaster/HDAI</a><br/>\n",
       "                Run page: <a href=\"https://wandb.ai/hdai_sjmaster/HDAI/runs/32e75qaq\" target=\"_blank\">https://wandb.ai/hdai_sjmaster/HDAI/runs/32e75qaq</a><br/>\n",
       "                Run data is saved locally in <code>/home/chaeeun/Desktop/hdai/wandb/run-20211212_202806-32e75qaq</code><br/><br/>\n",
       "            "
      ],
      "text/plain": [
       "<IPython.core.display.HTML object>"
      ]
     },
     "metadata": {},
     "output_type": "display_data"
    },
    {
     "name": "stdout",
     "output_type": "stream",
     "text": [
      "Train Epoch 1 start!\n"
     ]
    },
    {
     "name": "stderr",
     "output_type": "stream",
     "text": [
      "/home/chaeeun/.conda/envs/sce/lib/python3.7/site-packages/torch/nn/functional.py:652: UserWarning: Named tensors and all their associated APIs are an experimental feature and subject to change. Please do not use them for anything important until they are released as stable. (Triggered internally at  /pytorch/c10/core/TensorImpl.h:1156.)\n",
      "  return torch.max_pool1d(input, kernel_size, stride, padding, dilation, ceil_mode)\n"
     ]
    },
    {
     "name": "stdout",
     "output_type": "stream",
     "text": [
      "[Train] loss: 0.265\n",
      "[Test]  loss: 0.225\n",
      "\n",
      "\n",
      "Area Under the Curve(AOC):  0.9189026605734638\n",
      "Average Precision:  0.8516614127459355\n",
      "0.9152088907182547\n",
      "0.9636608344549125\n",
      "0.8664784187172246\n",
      "0.9124893797790994\n",
      "\n",
      "Train Epoch 2 start!\n",
      "[Train] loss: 0.101\n",
      "[Test]  loss: 0.141\n",
      "\n",
      "\n",
      "Area Under the Curve(AOC):  0.9578751064007628\n",
      "Average Precision:  0.9159187868474523\n",
      "0.9555464087260753\n",
      "0.9860924181247196\n",
      "0.922366764582459\n",
      "0.9531656548135299\n",
      "\n",
      "Train Epoch 3 start!\n",
      "[Train] loss: 0.084\n",
      "[Test]  loss: 0.093\n",
      "\n",
      "\n",
      "Area Under the Curve(AOC):  0.9606341059009567\n",
      "Average Precision:  0.9519135300651965\n",
      "0.963161144268368\n",
      "0.9300134589502019\n",
      "0.9890267175572519\n",
      "0.9586127167630059\n",
      "\n",
      "Train Epoch 4 start!\n",
      "[Train] loss: 0.074\n",
      "[Test]  loss: 0.061\n",
      "\n",
      "\n",
      "Area Under the Curve(AOC):  0.9749481003092659\n",
      "Average Precision:  0.9616934527807938\n",
      "0.9755093640666804\n",
      "0.968147151188874\n",
      "0.9782411604714415\n",
      "0.9731679819616684\n",
      "\n",
      "Train Epoch 5 start!\n",
      "[Train] loss: 0.073\n",
      "[Test]  loss: 0.097\n",
      "\n",
      "\n",
      "Area Under the Curve(AOC):  0.9595165354035211\n",
      "Average Precision:  0.9537689700138712\n",
      "0.9625437332784523\n",
      "0.9228353521758637\n",
      "0.9951620706337687\n",
      "0.957635009310987\n",
      "\n",
      "Train Epoch 6 start!\n",
      "[Train] loss: 0.077\n",
      "[Test]  loss: 0.111\n",
      "\n",
      "\n",
      "Area Under the Curve(AOC):  0.9510911302277104\n",
      "Average Precision:  0.9408885788942636\n",
      "0.9543115867462441\n",
      "0.9120681920143562\n",
      "0.9873725109276348\n",
      "0.9482276119402985\n",
      "\n",
      "Train Epoch 7 start!\n",
      "[Train] loss: 0.064\n",
      "[Test]  loss: 0.207\n",
      "\n",
      "\n",
      "Area Under the Curve(AOC):  0.9182726145332782\n",
      "Average Precision:  0.9058353693980523\n",
      "0.9242642519036839\n",
      "0.8456707043517272\n",
      "0.9874279727606077\n",
      "0.9110681488641856\n",
      "\n",
      "Train Epoch 8 start!\n",
      "[Train] loss: 0.067\n",
      "[Test]  loss: 0.071\n",
      "\n",
      "\n",
      "Area Under the Curve(AOC):  0.969032388477501\n",
      "Average Precision:  0.9573218969906401\n",
      "0.9703642724840502\n",
      "0.9528936742934051\n",
      "0.9819694868238558\n",
      "0.9672131147540983\n",
      "\n",
      "Train Epoch 9 start!\n",
      "[Train] loss: 0.060\n",
      "[Test]  loss: 0.099\n",
      "\n",
      "\n",
      "Area Under the Curve(AOC):  0.963518142289591\n",
      "Average Precision:  0.9328129480319921\n",
      "0.9625437332784523\n",
      "0.9753252579632122\n",
      "0.944806605823555\n",
      "0.9598233995584989\n",
      "\n",
      "Train Epoch 10 start!\n",
      "[Train] loss: 0.058\n",
      "[Test]  loss: 0.075\n",
      "\n",
      "\n",
      "Area Under the Curve(AOC):  0.9794837153525853\n",
      "Average Precision:  0.964819997918894\n",
      "0.9794196336694793\n",
      "0.9802602063705698\n",
      "0.9750111557340473\n",
      "0.977628635346756\n",
      "\n",
      "Train Epoch 11 start!\n",
      "[Train] loss: 0.055\n",
      "[Test]  loss: 0.087\n",
      "\n",
      "\n",
      "Area Under the Curve(AOC):  0.97158737144485\n",
      "Average Precision:  0.9609971848814377\n",
      "0.9728339164437126\n",
      "0.9564827276805743\n",
      "0.9838486386709737\n",
      "0.9699727024567789\n",
      "\n",
      "Train Epoch 12 start!\n",
      "[Train] loss: 0.053\n",
      "[Test]  loss: 0.086\n",
      "\n",
      "\n",
      "Area Under the Curve(AOC):  0.9639948347653725\n",
      "Average Precision:  0.952553949428925\n",
      "0.9658365918913356\n",
      "0.9416778824585016\n",
      "0.9831381733021077\n",
      "0.961961503208066\n",
      "\n",
      "Train Epoch 13 start!\n",
      "[Train] loss: 0.051\n",
      "[Test]  loss: 0.051\n",
      "\n",
      "\n",
      "Area Under the Curve(AOC):  0.978879171379005\n",
      "Average Precision:  0.9637252501023592\n",
      "0.9788022226795637\n",
      "0.9798115746971736\n",
      "0.9741302408563782\n",
      "0.9769626481771416\n",
      "\n",
      "Train Epoch 14 start!\n",
      "[Train] loss: 0.049\n",
      "[Test]  loss: 0.079\n",
      "\n",
      "\n",
      "Area Under the Curve(AOC):  0.9651737296303309\n",
      "Average Precision:  0.9579976959659869\n",
      "0.9674830211977773\n",
      "0.9371915657245401\n",
      "0.9914570479354533\n",
      "0.9635608856088561\n",
      "\n",
      "Train Epoch 15 start!\n",
      "[Train] loss: 0.049\n",
      "[Test]  loss: 0.053\n",
      "\n",
      "\n",
      "Area Under the Curve(AOC):  0.9778722235584508\n",
      "Average Precision:  0.970803879757063\n",
      "0.9790080263428689\n",
      "0.9641094661283086\n",
      "0.9898664210041456\n",
      "0.9768181818181818\n",
      "\n",
      "1436596.625 ms\n"
     ]
    },
    {
     "data": {
      "text/html": [
       "<br/>Waiting for W&B process to finish, PID 30845<br/>Program ended successfully."
      ],
      "text/plain": [
       "<IPython.core.display.HTML object>"
      ]
     },
     "metadata": {},
     "output_type": "display_data"
    },
    {
     "data": {
      "application/vnd.jupyter.widget-view+json": {
       "model_id": "",
       "version_major": 2,
       "version_minor": 0
      },
      "text/plain": [
       "VBox(children=(Label(value=' 0.01MB of 0.01MB uploaded (0.00MB deduped)\\r'), FloatProgress(value=0.98659448311…"
      ]
     },
     "metadata": {},
     "output_type": "display_data"
    },
    {
     "data": {
      "text/html": [
       "Find user logs for this run at: <code>/home/chaeeun/Desktop/hdai/wandb/run-20211212_202806-32e75qaq/logs/debug.log</code>"
      ],
      "text/plain": [
       "<IPython.core.display.HTML object>"
      ]
     },
     "metadata": {},
     "output_type": "display_data"
    },
    {
     "data": {
      "text/html": [
       "Find internal logs for this run at: <code>/home/chaeeun/Desktop/hdai/wandb/run-20211212_202806-32e75qaq/logs/debug-internal.log</code>"
      ],
      "text/plain": [
       "<IPython.core.display.HTML object>"
      ]
     },
     "metadata": {},
     "output_type": "display_data"
    },
    {
     "data": {
      "text/html": [
       "<h3>Run summary:</h3><br/><style>\n",
       "    table.wandb td:nth-child(1) { padding: 0 10px; text-align: right }\n",
       "    </style><table class=\"wandb\">\n",
       "<tr><td>_runtime</td><td>1441</td></tr><tr><td>_timestamp</td><td>1639309928</td></tr><tr><td>_step</td><td>29</td></tr></table>"
      ],
      "text/plain": [
       "<IPython.core.display.HTML object>"
      ]
     },
     "metadata": {},
     "output_type": "display_data"
    },
    {
     "data": {
      "text/html": [
       "<h3>Run history:</h3><br/><style>\n",
       "    table.wandb td:nth-child(1) { padding: 0 10px; text-align: right }\n",
       "    </style><table class=\"wandb\">\n",
       "<tr><td>_runtime</td><td>▁▁▁▁▂▂▂▂▃▃▃▃▄▄▅▅▅▅▆▆▆▆▆▆▇▇▇▇██</td></tr><tr><td>_timestamp</td><td>▁▁▁▁▂▂▂▂▃▃▃▃▄▄▅▅▅▅▆▆▆▆▆▆▇▇▇▇██</td></tr><tr><td>_step</td><td>▁▁▁▂▂▂▂▃▃▃▃▄▄▄▄▅▅▅▅▆▆▆▆▇▇▇▇███</td></tr></table><br/>"
      ],
      "text/plain": [
       "<IPython.core.display.HTML object>"
      ]
     },
     "metadata": {},
     "output_type": "display_data"
    },
    {
     "data": {
      "text/html": [
       "Synced 6 W&B file(s), 15 media file(s), 15 artifact file(s) and 1 other file(s)"
      ],
      "text/plain": [
       "<IPython.core.display.HTML object>"
      ]
     },
     "metadata": {},
     "output_type": "display_data"
    },
    {
     "data": {
      "text/html": [
       "\n",
       "                    <br/>Synced <strong style=\"color:#cdcd00\">peachy-tree-31</strong>: <a href=\"https://wandb.ai/hdai_sjmaster/HDAI/runs/32e75qaq\" target=\"_blank\">https://wandb.ai/hdai_sjmaster/HDAI/runs/32e75qaq</a><br/>\n",
       "                "
      ],
      "text/plain": [
       "<IPython.core.display.HTML object>"
      ]
     },
     "metadata": {},
     "output_type": "display_data"
    }
   ],
   "source": [
    "from model.resnet import resnet34\n",
    "\n",
    "model = resnet34().to(device)\n",
    "\n",
    "config = easydict.EasyDict({'n_epoch': 15,\n",
    "                           'batch_size':64,\n",
    "                           'lr': 0.001,\n",
    "                           })\n",
    "\n",
    "train_loader = DataLoader(ECGdataset(data_type = 'train'), batch_size = config.batch_size, \n",
    "                          num_workers = 8, shuffle = True)\n",
    "#num_workers: cpu 여러개로 학습을 시켜라(8)\n",
    "test_loader = DataLoader(ECGdataset(data_type = 'val'), batch_size = config.batch_size ,num_workers = 8, shuffle = False)\n",
    "\n",
    "#Loss\n",
    "criterion = nn.BCELoss()\n",
    "#optimizer\n",
    "optimizer = torch.optim.Adam(model.parameters(), lr = config.lr)\n",
    "\n",
    "#trainer\n",
    "wandb.init(project=\"HDAI\", entity=\"hdai_sjmaster\", config = config)\n",
    "wandb.watch(model, log='all')\n",
    "\n",
    "start = torch.cuda.Event(enable_timing = True)\n",
    "end = torch.cuda.Event(enable_timing = True)\n",
    "\n",
    "start.record()\n",
    "loss_plot, val_loss_plot = [], []\n",
    "\n",
    "for n_epoch in range(1, config.n_epoch + 1):\n",
    "    print(f'Train Epoch {n_epoch} start!')\n",
    "    avg_train_loss = 0\n",
    "    avg_train_mae = 0\n",
    "    \n",
    "    model.train()\n",
    "    \n",
    "    for iter, batch in enumerate(train_loader):\n",
    "        X = batch['X'].to(device)\n",
    "        y_target = batch['y_target'].to(device)\n",
    "        optimizer.zero_grad()#optimizer reset\n",
    "        \n",
    "        y_pred = model(X)\n",
    "        loss = criterion(y_pred, y_target)\n",
    "        loss.backward()\n",
    "        optimizer.step()\n",
    "        avg_train_loss += loss.item() / len(train_loader)\n",
    "\n",
    "    print('[Train] loss: {:.3f}'.format(avg_train_loss))\n",
    "\n",
    "    loss_plot.append(avg_train_loss)\n",
    "\n",
    "\n",
    "        #validation\n",
    "    model.eval()\n",
    "    avg_test_loss = 0\n",
    "        \n",
    "    with torch.no_grad(): #no need to compute gradient\n",
    "        y_pred_list = []\n",
    "        for iter, batch in enumerate(test_loader):\n",
    "            X = batch['X'].to(device)\n",
    "            y_target = batch['y_target'].to(device)\n",
    "            y_pred = model(X)\n",
    "            y_pred_list.append(y_pred)#####\n",
    "            loss = criterion(y_pred, y_target)\n",
    "            avg_test_loss += loss.item()/len(test_loader)\n",
    "\n",
    "\n",
    "        print('[Test]  loss: {:.3f}'.format(avg_test_loss))\n",
    "        print('\\n')\n",
    "        val_loss_plot.append(avg_test_loss)\n",
    "        y_predicted = torch.cat([*y_pred_list], dim = 0)\n",
    "\n",
    "#         wandb.log({'Train bce Loss' : avg_train_loss, 'Test bce Loss': avg_test_loss})\n",
    "        wandb.log({\"train\": {\"loss\": avg_train_loss}, \"val\": {\"loss\": avg_test_loss}})\n",
    "        y_target = ECGdataset(data_type = 'val').y\n",
    "        y_pred, y_predicted = threshold(y_predicted)\n",
    "        wandb.log({\"roc\" : wandb.plot.roc_curve( y_target, y_pred)})#, labels=['normal', 'arrhythmia']이거 분명 이상한데\n",
    "\n",
    "        print(\"Area Under the Curve(AOC): \",roc_auc_score(y_target, y_predicted))#Compute Area Under the (ROC AUC) from prediction scores.\n",
    "        print(\"Average Precision: \",average_precision_score(y_target, y_predicted))#Compute average precision (AP) from prediction scores.\n",
    "\n",
    "        print(accuracy_score(y_target,y_predicted))\n",
    "        print(recall_score(y_target, y_predicted))\n",
    "        print(precision_score(y_target, y_predicted))\n",
    "        print(f1_score(y_target, y_predicted))#조화평균이라는데\n",
    "        print()\n",
    "        \n",
    "end.record()\n",
    "torch.cuda.synchronize()\n",
    "print(start.elapsed_time(end), \"ms\")\n",
    "# torch.save(model.state_dict(), './trained_params/epoch_45_model_trial_2')\n",
    "\n",
    "wandb.finish()\n"
   ]
  },
  {
   "cell_type": "code",
   "execution_count": 7,
   "id": "c9f2a5a0",
   "metadata": {},
   "outputs": [],
   "source": [
    "torch.save(model.state_dict(), './trained_params/epoch_15_0.001_20:41')"
   ]
  },
  {
   "cell_type": "code",
   "execution_count": 8,
   "id": "96fe9c3a",
   "metadata": {},
   "outputs": [
    {
     "data": {
      "image/png": "[encoded data removed]",
      "text/plain": [
       "<Figure size 640x480 with 1 Axes>"
      ]
     },
     "metadata": {},
     "output_type": "display_data"
    },
    {
     "data": {
      "image/png": "[encoded data removed]",
      "text/plain": [
       "<Figure size 640x480 with 1 Axes>"
      ]
     },
     "metadata": {},
     "output_type": "display_data"
    }
   ],
   "source": [
    "###visualize in this notebook\n",
    "fpr, tpr, threshold = metrics.roc_curve(y_target, y_predicted)\n",
    "roc_auc = metrics.auc(fpr, tpr)\n",
    "\n",
    "plt.title('Receiver Operating Characteristic')\n",
    "plt.plot(fpr, tpr, 'b', label = 'AUC = %0.2f' % roc_auc)\n",
    "plt.legend(loc = 'lower right')\n",
    "plt.plot([0, 1], [0, 1],'r--')\n",
    "plt.xlim([0, 1])\n",
    "plt.ylim([0, 1])\n",
    "plt.ylabel('True Positive Rate')\n",
    "plt.xlabel('False Positive Rate')\n",
    "plt.show()\n",
    "\n",
    "\n",
    "plt.plot(loss_plot, label='train_loss')\n",
    "plt.plot(val_loss_plot, label='val_loss')\n",
    "plt.xlabel('epoch')\n",
    "plt.ylabel('loss(bce)')\n",
    "plt.legend()\n",
    "plt.show()"
   ]
  },
  {
   "cell_type": "code",
   "execution_count": 10,
   "id": "5329fc5e",
   "metadata": {},
   "outputs": [
    {
     "data": {
      "text/plain": [
       "45"
      ]
     },
     "execution_count": 10,
     "metadata": {},
     "output_type": "execute_result"
    }
   ],
   "source": [
    "len(loss_plot)"
   ]
  },
  {
   "cell_type": "code",
   "execution_count": null,
   "id": "0eefa5ab",
   "metadata": {},
   "outputs": [],
   "source": []
  },
  {
   "cell_type": "markdown",
   "id": "c06dc165",
   "metadata": {},
   "source": [
    "# saving models"
   ]
  },
  {
   "cell_type": "code",
   "execution_count": 1,
   "id": "26a6f1e3",
   "metadata": {},
   "outputs": [],
   "source": [
    "import os\n",
    "import numpy as np\n",
    "import torch\n",
    "import pandas as pd\n",
    "from torch import nn\n",
    "from torch import optim\n",
    "from torch.utils.data import TensorDataset, DataLoader, Dataset\n",
    "from torch.autograd import Variable\n",
    "import torch.nn as nn\n",
    "from sklearn.metrics import roc_auc_score, average_precision_score, accuracy_score, recall_score, precision_score, f1_score\n",
    "import tqdm\n",
    "from operator import add\n",
    "import matplotlib.pyplot as plt\n",
    "import easydict\n",
    "import wandb\n",
    "import sklearn.metrics as metrics\n",
    "device = torch.device('cuda:0' if torch.cuda.is_available() else 'cpu')"
   ]
  },
  {
   "cell_type": "code",
   "execution_count": 5,
   "id": "f0ad231d",
   "metadata": {},
   "outputs": [
    {
     "data": {
      "text/plain": [
       "<All keys matched successfully>"
      ]
     },
     "execution_count": 5,
     "metadata": {},
     "output_type": "execute_result"
    }
   ],
   "source": [
    "# torch.save(model.state_dict(), './trained_params/epoch_100_model_trial_1')\n",
    "from model.resnet import resnet34\n",
    "model = resnet34()\n",
    "model.load_state_dict(torch.load('./trained_params/epoch_45_model_trial_2',map_location=torch.device(device)))\n",
    "\n"
   ]
  },
  {
   "cell_type": "code",
   "execution_count": 6,
   "id": "7050edfc",
   "metadata": {},
   "outputs": [],
   "source": [
    "criterion = nn.BCELoss()\n",
    "\n",
    "# config = easydict.EasyDict({'n_epoch': 3,\n",
    "#                            'batch_size':64,\n",
    "#                            'lr': 0.001,\n",
    "#                            })\n",
    "\n",
    "test_loader = DataLoader(ECGdataset(data_type = 'val'), batch_size = 4859,num_workers = 8, shuffle = False)\n",
    "# avg_test_loss=[]\n"
   ]
  },
  {
   "cell_type": "code",
   "execution_count": 7,
   "id": "0272d5f5",
   "metadata": {},
   "outputs": [
    {
     "data": {
      "text/plain": [
       "1"
      ]
     },
     "execution_count": 7,
     "metadata": {},
     "output_type": "execute_result"
    }
   ],
   "source": [
    "len(test_loader)"
   ]
  },
  {
   "cell_type": "code",
   "execution_count": 8,
   "id": "627cddd5",
   "metadata": {},
   "outputs": [
    {
     "name": "stderr",
     "output_type": "stream",
     "text": [
      "/home/chaeeun/.conda/envs/sce/lib/python3.7/site-packages/torch/nn/functional.py:652: UserWarning: Named tensors and all their associated APIs are an experimental feature and subject to change. Please do not use them for anything important until they are released as stable. (Triggered internally at  /pytorch/c10/core/TensorImpl.h:1156.)\n",
      "  return torch.max_pool1d(input, kernel_size, stride, padding, dilation, ceil_mode)\n"
     ]
    },
    {
     "name": "stdout",
     "output_type": "stream",
     "text": [
      "\n",
      "\n"
     ]
    }
   ],
   "source": [
    "y_pred_list = []\n",
    "for iter, batch in enumerate(test_loader):\n",
    "    X = batch['X']\n",
    "    y_target = batch['y_target']\n",
    "    y_pred = model(X)\n",
    "    y_pred_list.append(y_pred)\n",
    "\n",
    "print('\\n')\n",
    "# val_loss_plot.append(avg_test_loss)\n",
    "y_predicted = torch.cat([*y_pred_list], dim = 0)"
   ]
  },
  {
   "cell_type": "code",
   "execution_count": 9,
   "id": "0550e159",
   "metadata": {},
   "outputs": [
    {
     "name": "stdout",
     "output_type": "stream",
     "text": [
      "Area Under the Curve(AOC):  0.9766782321523914\n",
      "Average Precision:  0.9669637209297393\n",
      "0.9775674006997325\n",
      "0.9659039928218932\n",
      "0.984903934126258\n",
      "0.9753114382785957\n",
      "\n"
     ]
    }
   ],
   "source": [
    "y_target = ECGdataset(data_type = 'val').y\n",
    "y_predicted = threshold(y_predicted)\n",
    "# wandb.log({\"roc\" : wandb.plot.roc_curve( y_target, y_pred)})#, labels=['normal', 'arrhythmia']이거 분명 이상한데\n",
    "\n",
    "print(\"Area Under the Curve(AOC): \",roc_auc_score(y_target, y_predicted))#Compute Area Under the (ROC AUC) from prediction scores.\n",
    "print(\"Average Precision: \",average_precision_score(y_target, y_predicted))#Compute average precision (AP) from prediction scores.\n",
    "\n",
    "print(accuracy_score(y_target,y_predicted))\n",
    "print(recall_score(y_target, y_predicted))\n",
    "print(precision_score(y_target, y_predicted))\n",
    "print(f1_score(y_target, y_predicted))#조화평균이라는데\n",
    "print()"
   ]
  },
  {
   "cell_type": "code",
   "execution_count": 12,
   "id": "ad70046d",
   "metadata": {},
   "outputs": [
    {
     "data": {
      "image/png": "[encoded data removed]",
      "text/plain": [
       "<Figure size 640x480 with 1 Axes>"
      ]
     },
     "metadata": {},
     "output_type": "display_data"
    },
    {
     "ename": "NameError",
     "evalue": "name 'loss_plot' is not defined",
     "output_type": "error",
     "traceback": [
      "\u001b[0;31m---------------------------------------------------------------------------\u001b[0m",
      "\u001b[0;31mNameError\u001b[0m                                 Traceback (most recent call last)",
      "\u001b[0;32m<ipython-input-12-dd6127ae0631>\u001b[0m in \u001b[0;36m<module>\u001b[0;34m\u001b[0m\n\u001b[1;32m     13\u001b[0m \u001b[0;34m\u001b[0m\u001b[0m\n\u001b[1;32m     14\u001b[0m \u001b[0;34m\u001b[0m\u001b[0m\n\u001b[0;32m---> 15\u001b[0;31m \u001b[0mplt\u001b[0m\u001b[0;34m.\u001b[0m\u001b[0mplot\u001b[0m\u001b[0;34m(\u001b[0m\u001b[0mloss_plot\u001b[0m\u001b[0;34m,\u001b[0m \u001b[0mlabel\u001b[0m\u001b[0;34m=\u001b[0m\u001b[0;34m'train_loss'\u001b[0m\u001b[0;34m)\u001b[0m\u001b[0;34m\u001b[0m\u001b[0;34m\u001b[0m\u001b[0m\n\u001b[0m\u001b[1;32m     16\u001b[0m \u001b[0mplt\u001b[0m\u001b[0;34m.\u001b[0m\u001b[0mplot\u001b[0m\u001b[0;34m(\u001b[0m\u001b[0mval_loss_plot\u001b[0m\u001b[0;34m,\u001b[0m \u001b[0mlabel\u001b[0m\u001b[0;34m=\u001b[0m\u001b[0;34m'val_loss'\u001b[0m\u001b[0;34m)\u001b[0m\u001b[0;34m\u001b[0m\u001b[0;34m\u001b[0m\u001b[0m\n\u001b[1;32m     17\u001b[0m \u001b[0mplt\u001b[0m\u001b[0;34m.\u001b[0m\u001b[0mxlabel\u001b[0m\u001b[0;34m(\u001b[0m\u001b[0;34m'epoch'\u001b[0m\u001b[0;34m)\u001b[0m\u001b[0;34m\u001b[0m\u001b[0;34m\u001b[0m\u001b[0m\n",
      "\u001b[0;31mNameError\u001b[0m: name 'loss_plot' is not defined"
     ]
    }
   ],
   "source": [
    "fpr, tpr, threshold = metrics.roc_curve(y_target, y_predicted)\n",
    "roc_auc = metrics.auc(fpr, tpr)\n",
    "\n",
    "plt.title('Receiver Operating Characteristic')\n",
    "plt.plot(fpr, tpr, 'b', label = 'AUC = %0.2f' % roc_auc)\n",
    "plt.legend(loc = 'lower right')\n",
    "plt.plot([0, 1], [0, 1],'r--')\n",
    "plt.xlim([0, 1])\n",
    "plt.ylim([0, 1])\n",
    "plt.ylabel('True Positive Rate')\n",
    "plt.xlabel('False Positive Rate')\n",
    "plt.show()\n",
    "\n",
    "\n",
    "plt.plot(loss_plot, label='train_loss')\n",
    "plt.plot(val_loss_plot, label='val_loss')\n",
    "plt.xlabel('epoch')\n",
    "plt.ylabel('loss(bce)')\n",
    "plt.legend()\n",
    "plt.show()"
   ]
  },
  {
   "cell_type": "code",
   "execution_count": 10,
   "id": "67eab952",
   "metadata": {},
   "outputs": [
    {
     "name": "stdout",
     "output_type": "stream",
     "text": [
      "4750\n"
     ]
    }
   ],
   "source": [
    "sum = 0\n",
    "for i in range(4859):\n",
    "    if y_predicted[i] == y_target[i]:\n",
    "        sum += 1\n",
    "print(sum)"
   ]
  },
  {
   "cell_type": "code",
   "execution_count": 11,
   "id": "7b2d140d",
   "metadata": {},
   "outputs": [
    {
     "data": {
      "text/plain": [
       "97.75674006997325"
      ]
     },
     "execution_count": 11,
     "metadata": {},
     "output_type": "execute_result"
    }
   ],
   "source": [
    "4750/4859*100"
   ]
  },
  {
   "cell_type": "markdown",
   "id": "1e9054be",
   "metadata": {},
   "source": [
    "epoch_15_8:41: 0.9744843720947688\n",
    "final(0.0001, 100): 0.9597611505440725\n",
    "epoch_100_model_trial_1: Area Under the Curve(AOC):  0.9722985294092562\n",
    "epoch_45_model_trial_2: Area Under the Curve(AOC):  0.9766782321523914"
   ]
  }
 ],
 "metadata": {
  "kernelspec": {
   "display_name": "Python 3.7.11 64-bit ('sce': conda)",
   "language": "python",
   "name": "python3711jvsc74a57bd09bb3e46167f5c400af3e59bea929666d662dd7e99f9046bb04b64be6ff24130e"
  },
  "language_info": {
   "codemirror_mode": {
    "name": "ipython",
    "version": 3
   },
   "file_extension": ".py",
   "mimetype": "text/x-python",
   "name": "python",
   "nbconvert_exporter": "python",
   "pygments_lexer": "ipython3",
   "version": "3.7.11"
  }
 },
 "nbformat": 4,
 "nbformat_minor": 5
}
